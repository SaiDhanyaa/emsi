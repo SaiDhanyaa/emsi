{
 "cells": [
  {
   "cell_type": "code",
   "execution_count": 11,
   "metadata": {},
   "outputs": [],
   "source": [
    " #!/usr/bin/env python3"
   ]
  },
  {
   "cell_type": "markdown",
   "metadata": {},
   "source": [
    "## Import Python packages for plotting GEE data in Leaflet"
   ]
  },
  {
   "cell_type": "code",
   "execution_count": 12,
   "metadata": {},
   "outputs": [],
   "source": [
    "from oauth2client import crypt"
   ]
  },
  {
   "cell_type": "code",
   "execution_count": 13,
   "metadata": {},
   "outputs": [
    {
     "name": "stdout",
     "output_type": "stream",
     "text": [
      "0.6.0\n",
      "/opt/conda/lib/python3.6/site-packages/folium/__init__.py\n",
      "0.6.0\n"
     ]
    }
   ],
   "source": [
    "# import packages\n",
    "import pandas as pd\n",
    "import json\n",
    "import sys\n",
    "import ee \n",
    "\n",
    "ee.Initialize()\n",
    "\n",
    "import folium\n",
    "print(folium.__version__)\n",
    "sys.path.append('..')\n",
    "print (folium.__file__)\n",
    "print (folium.__version__)"
   ]
  },
  {
   "cell_type": "markdown",
   "metadata": {},
   "source": [
    "### Create definition files for working with Google Earth Engine"
   ]
  },
  {
   "cell_type": "code",
   "execution_count": 14,
   "metadata": {},
   "outputs": [],
   "source": [
    "def folium_gee_map(image,vis_params=None,folium_kwargs={}):\n",
    "    \"\"\"\n",
    "    Function to view Google Earth Engine tile layer as a Folium map.\n",
    "    \n",
    "    Parameters\n",
    "    ----------\n",
    "    image : Google Earth Engine Image.\n",
    "    vis_params : Dict with visualization parameters.\n",
    "    folium_kwargs : Keyword args for Folium Map.\n",
    "    \"\"\"\n",
    "    \n",
    "    # Get the MapID and Token after applying parameters\n",
    "    image_info = image.getMapId(vis_params)\n",
    "    mapid = image_info['mapid']\n",
    "    token = image_info['token']\n",
    "    folium_kwargs['attr'] = ('Map Data &copy; <a href=\"https://earthengine.google.com/\">Google Earth Engine</a> ')\n",
    "    folium_kwargs['tiles'] = \"https://earthengine.googleapis.com/map/%s/{z}/{x}/{y}?token=%s\"%(mapid,token)\n",
    "    \n",
    "    return folium.Map(**folium_kwargs)\n",
    "\n",
    "def folium_gee_layer(folium_map,image,vis_params=None,folium_kwargs={}):\n",
    "    \"\"\"\n",
    "    Function to add Google Earch Engine tile layer as a Folium layer.\n",
    "    \n",
    "    Parameters\n",
    "    ----------\n",
    "    folium_map : Folium map to add tile to.\n",
    "    image : Google Earth Engine Image.\n",
    "    vis_params : Dict with visualization parameters.\n",
    "    folium_kwargs : Keyword args for Folium Map.\n",
    "    \"\"\"\n",
    "    \n",
    "    # Get the MapID and Token after applying parameters\n",
    "    image_info = image.getMapId(vis_params)\n",
    "    mapid = image_info['mapid']\n",
    "    token = image_info['token']\n",
    "    folium_kwargs['attr'] = ('Map Data &copy; <a href=\"https://earthengine.google.com/\">Google Earth Engine</a> ')\n",
    "    folium_kwargs['tiles'] = \"https://earthengine.googleapis.com/map/%s/{z}/{x}/{y}?token=%s\"%(mapid,token) \n",
    "    layer = folium.TileLayer(**folium_kwargs)\n",
    "    layer.add_to(folium_map)"
   ]
  },
  {
   "cell_type": "markdown",
   "metadata": {},
   "source": [
    "# Plot Leaflet Map over the Santa Rita Experimental Range site \n",
    "\n",
    "We are also adding the Landsat 8 TOA data with a visible band combination."
   ]
  },
  {
   "cell_type": "code",
   "execution_count": 18,
   "metadata": {},
   "outputs": [
    {
     "data": {
      "text/html": [
       "<div style=\"width:100%;\"><div style=\"position:relative;width:100%;height:0;padding-bottom:60%;\"><iframe src=\"data:text/html;charset=utf-8;base64,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\" style=\"position:absolute;width:100%;height:100%;left:0;top:0;border:none !important;\" allowfullscreen webkitallowfullscreen mozallowfullscreen></iframe></div></div>"
      ],
      "text/plain": [
       "<folium.folium.Map at 0x7ff4457159b0>"
      ]
     },
     "execution_count": 18,
     "metadata": {},
     "output_type": "execute_result"
    }
   ],
   "source": [
    "# Get an area to look at\n",
    "lat = -18.800\n",
    "lon = 14.865\n",
    "zoom_start=11\n",
    "\n",
    "# Open Street Map Base\n",
    "m = folium.Map(location=[lat, lon], tiles=\"OpenStreetMap\", zoom_start=zoom_start)\n",
    "\n",
    "# Create a reference to the LANDSAT 8 image collection\n",
    "l8 = ee.ImageCollection('LANDSAT/LC8_L1T_TOA')\n",
    "# Filter the LANDSAT collection down to a eight month period\n",
    "filtered = l8.filterDate('2016-12-01', '2017-03-31');\n",
    "# Use the mosaic reducer, to select the most recent pixel in areas of overlap\n",
    "l8_image = filtered.median()\n",
    "l8_vis_params = {'min': 0, 'max':0.3, 'bands':'B4,B3,B2'}\n",
    "folium_gee_layer(m,l8_image,l8_vis_params,folium_kwargs={'overlay':True,'name':'LANDSAT'})\n",
    "\n",
    "# Create a reference to the 2016 sUAS orthophotography imager collection\n",
    "\n",
    "m.add_child(folium.LayerControl())\n",
    "m"
   ]
  },
  {
   "cell_type": "code",
   "execution_count": null,
   "metadata": {},
   "outputs": [],
   "source": []
  },
  {
   "cell_type": "code",
   "execution_count": null,
   "metadata": {},
   "outputs": [],
   "source": []
  }
 ],
 "metadata": {
  "kernelspec": {
   "display_name": "Python 3",
   "language": "python",
   "name": "python3"
  },
  "language_info": {
   "codemirror_mode": {
    "name": "ipython",
    "version": 3
   },
   "file_extension": ".py",
   "mimetype": "text/x-python",
   "name": "python",
   "nbconvert_exporter": "python",
   "pygments_lexer": "ipython3",
   "version": "3.6.3"
  }
 },
 "nbformat": 4,
 "nbformat_minor": 2
}
