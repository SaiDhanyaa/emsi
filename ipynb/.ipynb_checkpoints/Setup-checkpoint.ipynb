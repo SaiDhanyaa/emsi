{
 "cells": [
  {
   "cell_type": "markdown",
   "metadata": {},
   "source": [
    "# Install updates and dependencies for Earth Engine API and Python Client\n",
    "\n",
    "This is a one time step. This notebook is intended to be run on a CyVerse Visual Interactive Computing Environment or Atmosphere virtual machine.\n",
    "\n",
    "This notebook needs to be run in a Python 3 Kernel with Earth Engine API, Leaflet, and other geospatial dependencies.\n",
    "\n",
    "We are going to update Conda, and install a few requirements for running geospatial data in the notebook."
   ]
  },
  {
   "cell_type": "code",
   "execution_count": null,
   "metadata": {},
   "outputs": [],
   "source": [
    "%%bash\n",
    "conda update -n base conda && \\\n",
    "conda install -y -c conda-forge earthengine-api pandas folium nodejs cython gdal"
   ]
  },
  {
   "cell_type": "code",
   "execution_count": 2,
   "metadata": {},
   "outputs": [
    {
     "name": "stdout",
     "output_type": "stream",
     "text": [
      "Collecting pip\n",
      "  Downloading https://files.pythonhosted.org/packages/5f/25/e52d3f31441505a5f3af41213346e5b6c221c9e086a166f3703d2ddaf940/pip-18.0-py2.py3-none-any.whl (1.3MB)\n",
      "Installing collected packages: pip\n",
      "  Found existing installation: pip 9.0.1\n",
      "    Uninstalling pip-9.0.1:\n",
      "      Successfully uninstalled pip-9.0.1\n",
      "Successfully installed pip-18.0\n",
      "Collecting vega_datasets\n",
      "  Downloading https://files.pythonhosted.org/packages/47/c1/62c6cbdf7723209634826e0a96806d8493955fcf35d71c2ff870054b0a9a/vega_datasets-0.5.0-py2.py3-none-any.whl (201kB)\n",
      "Requirement already satisfied: pandas in /opt/conda/lib/python3.6/site-packages (from vega_datasets) (0.23.4)\n",
      "Requirement already satisfied: pytz>=2011k in /opt/conda/lib/python3.6/site-packages (from pandas->vega_datasets) (2018.4)\n",
      "Requirement already satisfied: numpy>=1.9.0 in /opt/conda/lib/python3.6/site-packages (from pandas->vega_datasets) (1.13.3)\n",
      "Requirement already satisfied: python-dateutil>=2.5.0 in /opt/conda/lib/python3.6/site-packages (from pandas->vega_datasets) (2.7.2)\n",
      "Requirement already satisfied: six>=1.5 in /opt/conda/lib/python3.6/site-packages (from python-dateutil>=2.5.0->pandas->vega_datasets) (1.11.0)\n",
      "Installing collected packages: vega-datasets\n",
      "Successfully installed vega-datasets-0.5.0\n",
      "Collecting pyCrypto\n",
      "  Downloading https://files.pythonhosted.org/packages/60/db/645aa9af249f059cc3a368b118de33889219e0362141e75d4eaf6f80f163/pycrypto-2.6.1.tar.gz (446kB)\n",
      "Building wheels for collected packages: pyCrypto\n",
      "  Running setup.py bdist_wheel for pyCrypto: started\n",
      "  Running setup.py bdist_wheel for pyCrypto: finished with status 'done'\n",
      "  Stored in directory: /home/jovyan/.cache/pip/wheels/27/02/5e/77a69d0c16bb63c6ed32f5386f33a2809c94bd5414a2f6c196\n",
      "Successfully built pyCrypto\n",
      "Installing collected packages: pyCrypto\n",
      "Successfully installed pyCrypto-2.6.1\n",
      "Collecting pathlib\n",
      "  Downloading https://files.pythonhosted.org/packages/ac/aa/9b065a76b9af472437a0059f77e8f962fe350438b927cb80184c32f075eb/pathlib-1.0.1.tar.gz (49kB)\n",
      "Building wheels for collected packages: pathlib\n",
      "  Running setup.py bdist_wheel for pathlib: started\n",
      "  Running setup.py bdist_wheel for pathlib: finished with status 'done'\n",
      "  Stored in directory: /home/jovyan/.cache/pip/wheels/f9/b2/4a/68efdfe5093638a9918bd1bb734af625526e849487200aa171\n",
      "Successfully built pathlib\n",
      "Installing collected packages: pathlib\n",
      "Successfully installed pathlib-1.0.1\n",
      "Collecting kml2geojson\n",
      "  Downloading https://files.pythonhosted.org/packages/3c/94/3abac3fe67f89c84cef953359c54ceb39c79bba7fe19b9cc135c32be47cc/kml2geojson-4.0.2.tar.gz\n",
      "Collecting click>=6.6 (from kml2geojson)\n",
      "  Downloading https://files.pythonhosted.org/packages/34/c1/8806f99713ddb993c5366c362b2f908f18269f8d792aff1abfd700775a77/click-6.7-py2.py3-none-any.whl (71kB)\n",
      "Building wheels for collected packages: kml2geojson\n",
      "  Running setup.py bdist_wheel for kml2geojson: started\n",
      "  Running setup.py bdist_wheel for kml2geojson: finished with status 'done'\n",
      "  Stored in directory: /home/jovyan/.cache/pip/wheels/20/37/11/85e5bd37e2afc6128d50d2e95ff6896f10b143877561f4b4b2\n",
      "Successfully built kml2geojson\n",
      "Installing collected packages: click, kml2geojson\n",
      "Successfully installed click-6.7 kml2geojson-4.0.2\n",
      "Requirement already satisfied: google-api-python-client in /opt/conda/lib/python3.6/site-packages (1.6.7)\n",
      "Requirement already satisfied: httplib2<1dev,>=0.9.2 in /opt/conda/lib/python3.6/site-packages (from google-api-python-client) (0.11.3)\n",
      "Requirement already satisfied: oauth2client<5.0.0dev,>=1.5.0 in /opt/conda/lib/python3.6/site-packages (from google-api-python-client) (4.1.2)\n",
      "Requirement already satisfied: six<2dev,>=1.6.1 in /opt/conda/lib/python3.6/site-packages (from google-api-python-client) (1.11.0)\n",
      "Requirement already satisfied: uritemplate<4dev,>=3.0.0 in /opt/conda/lib/python3.6/site-packages (from google-api-python-client) (3.0.0)\n",
      "Requirement already satisfied: pyasn1>=0.1.7 in /opt/conda/lib/python3.6/site-packages (from oauth2client<5.0.0dev,>=1.5.0->google-api-python-client) (0.4.4)\n",
      "Requirement already satisfied: pyasn1-modules>=0.0.5 in /opt/conda/lib/python3.6/site-packages (from oauth2client<5.0.0dev,>=1.5.0->google-api-python-client) (0.2.1)\n",
      "Requirement already satisfied: rsa>=3.1.4 in /opt/conda/lib/python3.6/site-packages (from oauth2client<5.0.0dev,>=1.5.0->google-api-python-client) (3.4.2)\n"
     ]
    }
   ],
   "source": [
    "%%bash\n",
    "pip install --upgrade pip && \\\n",
    "pip install vega_datasets && \\\n",
    "pip install pyCrypto && \\\n",
    "pip install pathlib && \\\n",
    "pip install kml2geojson && \\\n",
    "pip install google-api-python-client"
   ]
  },
  {
   "cell_type": "code",
   "execution_count": 3,
   "metadata": {},
   "outputs": [
    {
     "name": "stdout",
     "output_type": "stream",
     "text": [
      "jupyterlab-geojson-extension-0.17.1.tgz\n",
      "yarn install v1.6.0\n",
      "info No lockfile found.\n",
      "[1/4] Resolving packages...\n",
      "warning css-loader > cssnano > autoprefixer > browserslist@1.7.7: Browserslist 2 could fail on reading Browserslist >3.0 config used in other tools.\n",
      "warning css-loader > cssnano > postcss-merge-rules > browserslist@1.7.7: Browserslist 2 could fail on reading Browserslist >3.0 config used in other tools.\n",
      "warning css-loader > cssnano > postcss-merge-rules > caniuse-api > browserslist@1.7.7: Browserslist 2 could fail on reading Browserslist >3.0 config used in other tools.\n",
      "[2/4] Fetching packages...\n",
      "info fsevents@1.2.4: The platform \"linux\" is incompatible with this module.\n",
      "info \"fsevents@1.2.4\" is an optional dependency and failed compatibility check. Excluding it from installation.\n",
      "[3/4] Linking dependencies...\n",
      "warning \"@jupyterlab/vdom-extension > @nteract/transform-vdom@1.1.1\" has incorrect peer dependency \"react@^15.6.1\".\n",
      "[4/4] Building fresh packages...\n",
      "success Saved lockfile.\n",
      "Done in 48.02s.\n",
      "yarn run v1.6.0\n",
      "$ webpack --config webpack.prod.config.js\n",
      "Hash: 403e2d1c20ddcef2de73\n",
      "Version: webpack 4.12.2\n",
      "Time: 74073ms\n",
      "Built at: 2018-08-28 01:08:25\n",
      "                                                        Asset       Size  Chunks                    Chunk Names\n",
      "                         vendors~vega.462e88f3865964783757.js    716 KiB       2  [emitted]  [big]  vendors~vega\n",
      "                         674f50d287a8c48dc19ba404d20fe713.eot    162 KiB          [emitted]         \n",
      "                       af7ae505a9eed503f8b8e6982036873e.woff2   75.4 KiB          [emitted]         \n",
      "                         a6137456ed160d7606981aa57c559898.png  696 bytes          [emitted]         \n",
      "                         912ec66d7572ff821749319396470bde.svg    434 KiB          [emitted]  [big]  \n",
      "                        fee66e712a8a08eef5805a46892932ad.woff   95.7 KiB          [emitted]         \n",
      "                         401d815dc206b8dc1b17cd0e37695975.png   2.41 KiB          [emitted]         \n",
      "                         2273e3d8ad9264b7daa5bdbf8e6b47f8.png   1.43 KiB          [emitted]         \n",
      "                         b06871f281fee6b241d60582ae9369b9.ttf    162 KiB          [emitted]         \n",
      "                         4f0283c6ce28e888000e978e537a6a56.png   1.23 KiB          [emitted]         \n",
      "    vendors~@jupyter-widgets/controls.4cf40f7428c9d075fbf7.js    141 KiB       0  [emitted]         vendors~@jupyter-widgets/controls\n",
      "                                    1.b6df5f48c55186c86461.js    441 KiB       1  [emitted]  [big]  \n",
      "                         44a526eed258222515aa21eaffd14a96.png  618 bytes          [emitted]         \n",
      "                                 vega.24f558a784461079beda.js  156 bytes       3  [emitted]         vega\n",
      "                                    4.6a7d274e81baaaa661e5.js   3.59 KiB       4  [emitted]         \n",
      "                         vendors~main.7d67254e6b631dfc311e.js   3.18 MiB       5  [emitted]  [big]  vendors~main\n",
      "                                 main.d813dd444649320ab367.js   22.3 KiB       6  [emitted]         main\n",
      "vendors~@jupyter-widgets/controls.4cf40f7428c9d075fbf7.js.map    452 KiB       0  [emitted]         vendors~@jupyter-widgets/controls\n",
      "                                1.b6df5f48c55186c86461.js.map   1.27 MiB       1  [emitted]         \n",
      "                     vendors~vega.462e88f3865964783757.js.map   2.84 MiB       2  [emitted]         vendors~vega\n",
      "                             vega.24f558a784461079beda.js.map  105 bytes       3  [emitted]         vega\n",
      "                                4.6a7d274e81baaaa661e5.js.map   9.25 KiB       4  [emitted]         \n",
      "                     vendors~main.7d67254e6b631dfc311e.js.map     11 MiB       5  [emitted]         vendors~main\n",
      "                             main.d813dd444649320ab367.js.map   82.1 KiB       6  [emitted]         main\n",
      "                                                   index.html   1.53 KiB          [emitted]         \n",
      "Entrypoint main [big] = vendors~main.7d67254e6b631dfc311e.js vendors~main.7d67254e6b631dfc311e.js.map main.d813dd444649320ab367.js main.d813dd444649320ab367.js.map\n",
      "[0] readable-stream (ignored) 15 bytes {6} [built]\n",
      "[1] crypto (ignored) 15 bytes {6} [optional] [built]\n",
      "[2] buffer (ignored) 15 bytes {6} [optional] [built]\n",
      "[J29t] ./node_modules/vega-util/index.js + 36 modules 15.1 KiB {2} [built]\n",
      "    |    37 modules\n",
      "[4] util (ignored) 15 bytes {6} [built]\n",
      "[5] vertx (ignored) 15 bytes {6} [optional] [built]\n",
      "[6] multi whatwg-fetch ./build/index.out.js 40 bytes {6} [built]\n",
      "[7] fs (ignored) 15 bytes {3} [built]\n",
      "[8] node-fetch (ignored) 15 bytes {3} [built]\n",
      "[ANye] ./build/index.out.js 37.2 KiB {6} [built]\n",
      "[RnhZ] ./node_modules/moment/locale sync ^\\.\\/.*$ 2.88 KiB {6} [optional] [built]\n",
      "[YuTi] (webpack)/buildin/module.js 497 bytes {5} [built]\n",
      "[eTbV] ./node_modules/codemirror/mode sync ^\\.\\/.*\\.js$ 2.78 KiB {4} [built]\n",
      "[etOl] ./node_modules/vega-embed/build/src/embed.js + 923 modules 1.69 MiB {2} [built]\n",
      "    |    924 modules\n",
      "[yLpj] (webpack)/buildin/global.js 489 bytes {5} [built]\n",
      "    + 1387 hidden modules\n",
      "\n",
      "WARNING in asset size limit: The following asset(s) exceed the recommended size limit (244 KiB).\n",
      "This can impact web performance.\n",
      "Assets: \n",
      "  912ec66d7572ff821749319396470bde.svg (434 KiB)\n",
      "  1.b6df5f48c55186c86461.js (441 KiB)\n",
      "  vendors~vega.462e88f3865964783757.js (716 KiB)\n",
      "  vendors~main.7d67254e6b631dfc311e.js (3.18 MiB)\n",
      "\n",
      "WARNING in entrypoint size limit: The following entrypoint(s) combined asset size exceeds the recommended limit (244 KiB). This can impact web performance.\n",
      "Entrypoints:\n",
      "  main (3.2 MiB)\n",
      "      vendors~main.7d67254e6b631dfc311e.js\n",
      "      main.d813dd444649320ab367.js\n",
      "\n",
      "Child html-webpack-plugin for \"index.html\":\n",
      "     1 asset\n",
      "    Entrypoint undefined = index.html\n",
      "    [KTNU] ./node_modules/html-loader!./templates/partial.html 567 bytes {0} [built]\n",
      "    [YuTi] (webpack)/buildin/module.js 497 bytes {0} [built]\n",
      "    [aS2v] ./node_modules/html-webpack-plugin/lib/loader.js!./templates/template.html 1.22 KiB {0} [built]\n",
      "    [yLpj] (webpack)/buildin/global.js 489 bytes {0} [built]\n",
      "        + 1 hidden module\n",
      "Done in 88.56s.\n"
     ]
    },
    {
     "name": "stderr",
     "output_type": "stream",
     "text": [
      "> /opt/conda/bin/npm pack @jupyterlab/geojson-extension\n",
      "> node /opt/conda/lib/python3.6/site-packages/jupyterlab/staging/yarn.js install\n",
      "> node /opt/conda/lib/python3.6/site-packages/jupyterlab/staging/yarn.js run build:prod\n"
     ]
    }
   ],
   "source": [
    "%%bash\n",
    "jupyter labextension install @jupyterlab/geojson-extension"
   ]
  },
  {
   "cell_type": "markdown",
   "metadata": {},
   "source": [
    "After these dependencies have installed, you're almost ready to go.\n",
    "\n",
    "# Authenticate your username to Earth Engine Servers"
   ]
  },
  {
   "cell_type": "code",
   "execution_count": 1,
   "metadata": {},
   "outputs": [
    {
     "name": "stdout",
     "output_type": "stream",
     "text": [
      "Paste the following address into a web browser:\n",
      "\n",
      "    https://accounts.google.com/o/oauth2/auth?client_id=517222506229-vsmmajv00ul0bs7p89v5m89qs8eb9359.apps.googleusercontent.com&scope=https%3A%2F%2Fwww.googleapis.com%2Fauth%2Fearthengine+https%3A%2F%2Fwww.googleapis.com%2Fauth%2Fdevstorage.full_control&redirect_uri=urn%3Aietf%3Awg%3Aoauth%3A2.0%3Aoob&response_type=code\n",
      "\n",
      "On the web page, please authorize access to your Earth Engine account and copy the authentication code. Next authenticate with the following command:\n",
      "\n",
      "    earthengine authenticate --authorization-code=PLACE_AUTH_CODE_HERE\n",
      "\n"
     ]
    }
   ],
   "source": [
    "%%bash\n",
    "earthengine authenticate --quiet"
   ]
  },
  {
   "cell_type": "markdown",
   "metadata": {},
   "source": [
    "Once you have obtained an authorization code from the previous step, paste the code into the following cell and run it:"
   ]
  },
  {
   "cell_type": "code",
   "execution_count": 2,
   "metadata": {},
   "outputs": [
    {
     "name": "stdout",
     "output_type": "stream",
     "text": [
      "\n",
      "Successfully saved authorization token.\n"
     ]
    }
   ],
   "source": [
    "%%bash\n",
    "earthengine authenticate --authorization-code=4/VgAejacv3ELo-kXH1s7cG7sWv3jgo6LEpfhf3JbdBmGjCbpMfxVEpDg"
   ]
  }
 ],
 "metadata": {
  "kernelspec": {
   "display_name": "Python 3",
   "language": "python",
   "name": "python3"
  },
  "language_info": {
   "codemirror_mode": {
    "name": "ipython",
    "version": 3
   },
   "file_extension": ".py",
   "mimetype": "text/x-python",
   "name": "python",
   "nbconvert_exporter": "python",
   "pygments_lexer": "ipython3",
   "version": "3.6.3"
  }
 },
 "nbformat": 4,
 "nbformat_minor": 2
}
